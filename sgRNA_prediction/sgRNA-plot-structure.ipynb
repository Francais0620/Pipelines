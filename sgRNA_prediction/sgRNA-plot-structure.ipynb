{
 "cells": [
  {
   "cell_type": "markdown",
   "id": "8aee8fe5",
   "metadata": {},
   "source": [
    "收藏色彩\n",
    "scale_fill_manual(values = c(\"LC\"=\"#98d09d\",\"NT\"=\"#d7e698\",\n",
    "                               \"DD\"=\"#dadada\",\"VU\"=\"#fbf398\",\n",
    "                               \"EN\"=\"#f7a895\",\"CR\"=\"#e77381\",\n",
    "                               \"EW\"=\"#9b8191\",\"EX\"=\"#8f888b\"),"
   ]
  },
  {
   "cell_type": "code",
   "execution_count": 88,
   "id": "48ddc180",
   "metadata": {},
   "outputs": [],
   "source": [
    "setwd(\"/home/xxzhang/workplace/project/CRISPRa/gRNA/allTE/structure/\")"
   ]
  },
  {
   "cell_type": "code",
   "execution_count": 104,
   "id": "d1bca4b3",
   "metadata": {},
   "outputs": [],
   "source": [
    "mismatch=3\n",
    "inputfile<-paste(\"/home/xxzhang/workplace/project/CRISPRa/gRNA/allTE/structure/Output\",mismatch,\".txt\",sep=\"\")"
   ]
  },
  {
   "cell_type": "code",
   "execution_count": 105,
   "id": "a8e4e0c5",
   "metadata": {},
   "outputs": [],
   "source": [
    "data<-read.table(inputfile)"
   ]
  },
  {
   "cell_type": "code",
   "execution_count": 106,
   "id": "659b7519",
   "metadata": {},
   "outputs": [
    {
     "data": {
      "text/html": [
       "<strong>png:</strong> 2"
      ],
      "text/latex": [
       "\\textbf{png:} 2"
      ],
      "text/markdown": [
       "**png:** 2"
      ],
      "text/plain": [
       "png \n",
       "  2 "
      ]
     },
     "metadata": {},
     "output_type": "display_data"
    }
   ],
   "source": [
    "metadata<-read.table(\"/home/xxzhang/workplace/project/CRISPRa/gRNA/allTE/structure/TE.total.structure.txt\")\n",
    "mergeDat<-merge(data,metadata,by=\"V1\")\n",
    "library(dplyr)\n",
    "library(tidyr)\n",
    "data_ext<-mergeDat %>% separate(V1, c(\"family\",\"subfamily\",\"length\"),sep = \"[:]\")\n",
    "colnames(data_ext)[4]<-\"count\"\n",
    "colnames(data_ext)[5]<-\"gRNA\"\n",
    "colnames(data_ext)[6]<-\"label\"\n",
    "colnames(data_ext)[7]<-\"total\"\n",
    "#head(data_ext)\n",
    "addition_gRNANT<-as.data.frame(matrix(c(\"L1\",\"L1HS\",\"other\",0,\"GATGAAAGCTGGCTACAGGAAGGCCAGACG\",\"other\",1),nrow=1))\n",
    "#addition_gRNANT\n",
    "colnames(addition_gRNANT)<-c(\"family\",\"subfamily\",\"length\",\"count\",\"gRNA\",\"label\",\"total\")\n",
    "data_ext<-rbind(data_ext,addition_gRNANT)\n",
    "data_ext$count<-as.numeric(data_ext$count)\n",
    "data_ext$total<-as.numeric(data_ext$total)\n",
    "data_ext[which(data_ext$gRNA==\"TGGGAGATATACCTAATGCTAGATGACACA\"),\"sgRNA\"]<-\"gRNA1\"\n",
    "data_ext[which(data_ext$gRNA==\"CCGGCTTAAGAAACGGCGCACCACGAGACT\"),\"sgRNA\"]<-\"gRNA2\"\n",
    "data_ext[which(data_ext$gRNA==\"ATCTGAAATTGTGGCAATAATCAATAGCTT\"),\"sgRNA\"]<-\"gRNA3\"\n",
    "data_ext[which(data_ext$gRNA==\"TATCCGCTGTTCTGCAGCCACCGCTGCTGA\"),\"sgRNA\"]<-\"gRNA4\"\n",
    "data_ext[which(data_ext$gRNA==\"GAAACTTCCAGAGGAACGATCAGGCAGCAA\"),\"sgRNA\"]<-\"gRNA5\"\n",
    "data_ext[which(data_ext$gRNA==\"AGAAACGGCGCACCACGAGACTATATCCCA\"),\"sgRNA\"]<-\"gRNA10\"\n",
    "data_ext[which(data_ext$gRNA==\"TTCCAGAGGAACGATCAGGCAGCAGCATTT\"),\"sgRNA\"]<-\"gRNA11\"\n",
    "data_ext[which(data_ext$gRNA==\"GATGAAAGCTGGCTACAGGAAGGCCAGACG\"),\"sgRNA\"]<-\"gRNANT\"\n",
    "data_ext$per<-data_ext$count/data_ext$total\n",
    "data_ext$length<-factor(data_ext$length,levels=rev(c(\"other\",\"ORF1\",\"ORF2\",\"ORF1-ORF2\")))\n",
    "library(ggplot2)\n",
    "options(repr.plot.width =15, repr.plot.height =4)\n",
    "title<-paste(\"mismatch:<=\",mismatch,sep=\"\")\n",
    "p2<-ggplot(data_ext, aes(fill=length, y=count, x=subfamily)) + \n",
    "  geom_bar(position='stack', stat='identity')+\n",
    "  #scale_fill_brewer(palette = \"Paired\")+\n",
    "  scale_fill_manual(values = c(\"#98d09d\",\"#dadada\",\"#f7a895\",\"#9b8191\"))+\n",
    "  labs(title=title)+\n",
    "  facet_grid(. ~ sgRNA) +\n",
    "  coord_flip()+\n",
    "  theme_classic()+\n",
    "  theme(plot.title=element_text(face=\"bold\", #字体\n",
    "                                color=\"steelblue\", #颜色\n",
    "                                size=20,  #大小\n",
    "                                hjust=0.5, #位置\n",
    "                                vjust=0.5,\n",
    "                                angle=360))\n",
    "outputfile<-paste(\"sgRNA-structure-num\",mismatch,\".pdf\",sep=\"\")\n",
    "pdf(outputfile,width = 15,height = 4)\n",
    "p2\n",
    "dev.off()"
   ]
  },
  {
   "cell_type": "code",
   "execution_count": 107,
   "id": "78193af0",
   "metadata": {},
   "outputs": [
    {
     "data": {
      "text/html": [
       "<strong>png:</strong> 2"
      ],
      "text/latex": [
       "\\textbf{png:} 2"
      ],
      "text/markdown": [
       "**png:** 2"
      ],
      "text/plain": [
       "png \n",
       "  2 "
      ]
     },
     "metadata": {},
     "output_type": "display_data"
    }
   ],
   "source": [
    "background_colors <- c(\"#f0f0f0\", \"#ffffff\")\n",
    "unique_categories <- unique(data_ext$subfamily)\n",
    "category_positions <- as.numeric(factor(unique_categories))\n",
    "background_data <- data.frame(\n",
    "  xmin = category_positions - 0.5,\n",
    "  xmax = category_positions + 0.5,\n",
    "  ymin = -Inf,\n",
    "  ymax = Inf,\n",
    "  fill = rep(background_colors, length.out = length(unique_categories))\n",
    ")\n",
    "#head(background_data)\n",
    "library(ggplot2)\n",
    "options(repr.plot.width =20, repr.plot.height =4)\n",
    "title<-paste(\"mismatch:<=\",mismatch,sep=\"\")\n",
    "p<-ggplot(data=data_ext) + \n",
    "  geom_rect(data = background_data, aes(xmin = xmin, xmax = xmax, ymin = ymin, ymax = ymax, fill = fill), alpha = 0.2) +\n",
    "  geom_bar(aes(fill=length, y=per, x=subfamily),position='dodge', stat='identity')+\n",
    "  #scale_fill_brewer(palette = \"Paired\")+\n",
    " # scale_fill_manual(values = c(\"#17becf\",\"#9467bd\",\"#ff7f0e\",\"#bcbd22\"))+\n",
    "  scale_fill_manual(name = \"length\",values = c(\"#98d09d\",\"#fbf398\",\"#f7a895\",\"#9b8191\",\"#f0f0f0\",\"#dadada\"))+\n",
    "  theme_classic()+\n",
    "  facet_grid(. ~ sgRNA) +\n",
    "  scale_y_continuous(limits = c(0, 1))+\n",
    "  coord_flip()+\n",
    "  labs(title=title,y=\"Percentage(%)\")+\n",
    "  theme(plot.title=element_text(face=\"bold\", #字体\n",
    "                                color=\"steelblue\", #颜色\n",
    "                                size=20,  #大小\n",
    "                                hjust=0.5, #位置\n",
    "                                vjust=0.5,\n",
    "                                angle=360))\n",
    "p <- p + guides(fill = guide_legend(override.aes = list(alpha = 1)))\n",
    "outputfile<-paste(\"sgRNA-structure-per\",mismatch,\".pdf\",sep=\"\")\n",
    "pdf(outputfile,width = 20,height = 4)\n",
    "p\n",
    "dev.off()"
   ]
  },
  {
   "cell_type": "code",
   "execution_count": 108,
   "id": "cb8d7628",
   "metadata": {},
   "outputs": [
    {
     "data": {
      "text/html": [
       "<strong>png:</strong> 2"
      ],
      "text/latex": [
       "\\textbf{png:} 2"
      ],
      "text/markdown": [
       "**png:** 2"
      ],
      "text/plain": [
       "png \n",
       "  2 "
      ]
     },
     "metadata": {},
     "output_type": "display_data"
    }
   ],
   "source": [
    "data_ext2<-data %>% separate(V1, c(\"family\",\"subfamily\",\"length\"),sep = \"[:]\")\n",
    "data_ext2$class<-paste(data_ext2$family,data_ext2$subfamily,sep=\":\")\n",
    "data_ext3<-data_ext2[,c(6,3,4,5)]\n",
    "#mergeDat<-merge(data,metadata,by=\"V1\")\n",
    "#tail(metadata)\n",
    "colnames(metadata)[1]<-\"class\"\n",
    "mergeDat2<-merge(data_ext3,metadata,by=\"class\")\n",
    "mergeDat3<-mergeDat2 %>% separate(class, c(\"family\",\"subfamily\"),sep = \"[:]\")\n",
    "mergeDat3$per<-mergeDat3$V2.x/mergeDat3$V3.y\n",
    "colnames(mergeDat3)<-c(\"family\",\"subfamily\",\"length\",\"count\",\"gRNA\",\"label\",\"total\",\"per\")\n",
    "#ead(mergeDat3)\n",
    "#addition_gRNANT<-as.data.frame(matrix(c(\"L1\",\"L1HS\",\">6k\",0,\"GATGAAAGCTGGCTACAGGAAGGCCAGACG\",\">6k\",1,0),nrow=1))\n",
    "addition_gRNANT<-as.data.frame(matrix(c(\"L1\",\"L1HS\",\"other\",0,\"GATGAAAGCTGGCTACAGGAAGGCCAGACG\",\"other\",1,0),nrow=1))\n",
    "#ddition_gRNANT\n",
    "colnames(addition_gRNANT)<-c(\"family\",\"subfamily\",\"length\",\"count\",\"gRNA\",\"label\",\"total\",\"per\")\n",
    "mergeDat3<-rbind(mergeDat3,addition_gRNANT)\n",
    "mergeDat3$count<-as.numeric(mergeDat3$count)\n",
    "mergeDat3$total<-as.numeric(mergeDat3$total)\n",
    "mergeDat3[which(mergeDat3$gRNA==\"TGGGAGATATACCTAATGCTAGATGACACA\"),\"sgRNA\"]<-\"gRNA1\"\n",
    "mergeDat3[which(mergeDat3$gRNA==\"CCGGCTTAAGAAACGGCGCACCACGAGACT\"),\"sgRNA\"]<-\"gRNA2\"\n",
    "mergeDat3[which(mergeDat3$gRNA==\"ATCTGAAATTGTGGCAATAATCAATAGCTT\"),\"sgRNA\"]<-\"gRNA3\"\n",
    "mergeDat3[which(mergeDat3$gRNA==\"TATCCGCTGTTCTGCAGCCACCGCTGCTGA\"),\"sgRNA\"]<-\"gRNA4\"\n",
    "mergeDat3[which(mergeDat3$gRNA==\"GAAACTTCCAGAGGAACGATCAGGCAGCAA\"),\"sgRNA\"]<-\"gRNA5\"\n",
    "mergeDat3[which(mergeDat3$gRNA==\"AGAAACGGCGCACCACGAGACTATATCCCA\"),\"sgRNA\"]<-\"gRNA10\"\n",
    "mergeDat3[which(mergeDat3$gRNA==\"TTCCAGAGGAACGATCAGGCAGCAGCATTT\"),\"sgRNA\"]<-\"gRNA11\"\n",
    "mergeDat3[which(mergeDat3$gRNA==\"GATGAAAGCTGGCTACAGGAAGGCCAGACG\"),\"sgRNA\"]<-\"gRNANT\"\n",
    "mergeDat3$per<-as.numeric(mergeDat3$per)\n",
    "#ead(mergeDat3)\n",
    "mergeDat3$length<-factor(mergeDat3$length,levels=rev(c(\"other\",\"ORF1\",\"ORF2\",\"ORF1-ORF2\")))\n",
    "#mergeDat3$length<-factor(mergeDat3$length,levels=rev(c(\"<=2k\",\"2k-4k\",\"4k-6k\",\">6k\")))\n",
    "background_colors <- c(\"#f0f0f0\", \"#ffffff\")\n",
    "unique_categories <- unique(data_ext$subfamily)\n",
    "category_positions <- as.numeric(factor(unique_categories))\n",
    "background_data <- data.frame(\n",
    "  xmin = category_positions - 0.5,\n",
    "  xmax = category_positions + 0.5,\n",
    "  ymin = -Inf,\n",
    "  ymax = Inf,\n",
    "  fill = rep(background_colors, length.out = length(unique_categories))\n",
    ")\n",
    "#ead(background_data)\n",
    "library(ggplot2)\n",
    "options(repr.plot.width =20, repr.plot.height =4)\n",
    "title<-paste(\"mismatch:<=\",mismatch,sep=\"\")\n",
    "p<-ggplot(data=mergeDat3) + \n",
    "  geom_rect(data = background_data, aes(xmin = xmin, xmax = xmax, ymin = ymin, ymax = ymax, fill = fill), alpha = 0.2) +\n",
    "  geom_bar(aes(fill=length, y=per, x=subfamily),position='stack', stat='identity')+\n",
    "  #scale_fill_brewer(palette = \"Paired\")+\n",
    " # scale_fill_manual(values = c(\"#17becf\",\"#9467bd\",\"#ff7f0e\",\"#bcbd22\"))+\n",
    "  scale_fill_manual(name = \"length\",values = c(\"#98d09d\",\"#fbf398\",\"#f7a895\",\"#9b8191\",\"#f0f0f0\",\"#dadada\"))+\n",
    "  theme_classic()+\n",
    "  facet_grid(. ~ sgRNA) +\n",
    "  scale_y_continuous(limits = c(0, 1))+\n",
    "  coord_flip()+\n",
    "  labs(title=title,y=\"Percentage(%)\")+\n",
    "  theme(plot.title=element_text(face=\"bold\", #字体\n",
    "                                color=\"steelblue\", #颜色\n",
    "                                size=20,  #大小\n",
    "                                hjust=0.5, #位置\n",
    "                                vjust=0.5,\n",
    "                                angle=360))\n",
    "outputfile<-paste(\"sgRNA-structure-per-all\",mismatch,\".pdf\",sep=\"\")\n",
    "pdf(outputfile,width = 20,height = 4)\n",
    "p\n",
    "dev.off()"
   ]
  },
  {
   "cell_type": "code",
   "execution_count": 82,
   "id": "bfe67ab8",
   "metadata": {},
   "outputs": [
    {
     "data": {
      "image/png": "[encoded data removed]",
      "text/plain": [
       "plot without title"
      ]
     },
     "metadata": {
      "image/png": {
       "height": 240,
       "width": 1200
      }
     },
     "output_type": "display_data"
    }
   ],
   "source": [
    "p"
   ]
  },
  {
   "cell_type": "code",
   "execution_count": null,
   "id": "bab13fcb",
   "metadata": {},
   "outputs": [],
   "source": []
  }
 ],
 "metadata": {
  "kernelspec": {
   "display_name": "R",
   "language": "R",
   "name": "ir"
  },
  "language_info": {
   "codemirror_mode": "r",
   "file_extension": ".r",
   "mimetype": "text/x-r-source",
   "name": "R",
   "pygments_lexer": "r",
   "version": "4.2.0"
  }
 },
 "nbformat": 4,
 "nbformat_minor": 5
}
